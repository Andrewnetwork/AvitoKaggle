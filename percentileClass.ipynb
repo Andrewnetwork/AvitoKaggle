{
 "cells": [
  {
   "cell_type": "code",
   "execution_count": null,
   "metadata": {
    "_cell_guid": "b1076dfc-b9ad-4769-8c92-a6c4dae69d19",
    "_uuid": "8f2839f25d086af736a60e9eeb907d3b93b6e0e5",
    "collapsed": true
   },
   "outputs": [],
   "source": [
    "import numpy as np # linear algebra\n",
    "import pandas as pd # data processing, CSV file I/O (e.g. pd.read_csv)\n",
    "from keras.preprocessing.text import Tokenizer\n",
    "import os\n",
    "import matplotlib.pyplot as plt\n",
    "import seaborn as sns\n",
    "from keras.preprocessing.sequence import pad_sequences\n",
    "from keras.utils import to_categorical\n",
    "import math"
   ]
  },
  {
   "cell_type": "code",
   "execution_count": null,
   "metadata": {
    "_cell_guid": "f8bdce40-1680-4bb9-ad33-d80a063589df",
    "_uuid": "b1adf8a2c21b6af007e7660a67542c6533e36d39",
    "collapsed": true
   },
   "outputs": [],
   "source": [
    "trainDF = pd.read_csv(\"../input/train.csv\")\n",
    "testDF = pd.read_csv(\"../input/test.csv\")\n",
    "\n",
    "#trainDF.head()\n",
    "testDF.head()"
   ]
  },
  {
   "cell_type": "code",
   "execution_count": null,
   "metadata": {
    "_cell_guid": "361d7d75-eadf-4125-96d3-aac22673118c",
    "_uuid": "facd5a687e3bec1ad5f095f93473801708143fad",
    "collapsed": true
   },
   "outputs": [],
   "source": [
    "def percentileOneHot(dealProb,nBuckets=10):\n",
    "    val = math.floor((dealProb*nBuckets))\n",
    "    if dealProb == 1: \n",
    "        val = nBuckets-1\n",
    "        \n",
    "    return val,to_categorical(val , num_classes=nBuckets)\n",
    "\n",
    "featureColumns = [\"description\",\"price\",\"category_name\"]\n",
    "trainDF = trainDF[featureColumns+[\"deal_probability\"]].dropna(axis=0, how='any')\n",
    "testDF = testDF[[\"item_id\"]+featureColumns].fillna(0)\n",
    "\n",
    "max_features = 20000\n",
    "maxlen = 200\n",
    "\n",
    "tokenizer = Tokenizer(num_words=max_features)\n",
    "\n",
    "tokenizer.fit_on_texts(trainDF[\"description\"])\n",
    "\n",
    "trainDF[\"description\"] = tokenizer.texts_to_sequences(trainDF[\"description\"])\n",
    "testDF[\"description\"]  = tokenizer.texts_to_sequences(testDF[\"description\"])\n",
    "\n",
    "train_x = pad_sequences(trainDF[\"description\"], maxlen=maxlen)\n",
    "test_x = pad_sequences(testDF[\"description\"], maxlen=maxlen)\n",
    "\n",
    "trainDF['category_name'], mapping_index_category = pd.Series(trainDF['category_name']).factorize()\n",
    "reverseCatMap = {mapping_index_category[i]: i for i in range(0, len(mapping_index_category))}\n",
    "testDF['category_name'] = testDF['category_name'].map(reverseCatMap)\n",
    "\n",
    "percentileRes = trainDF[\"deal_probability\"].map(percentileOneHot) \n",
    "trainDF = trainDF.assign(percentileClassID = percentileRes.apply(lambda x: x[0]), percentileClass = percentileRes.apply(lambda x: x[1]))"
   ]
  },
  {
   "cell_type": "code",
   "execution_count": null,
   "metadata": {
    "_cell_guid": "12f4e5ec-c633-4ab7-b4a7-08f9ae4530cf",
    "_uuid": "db79a29fa75b2e2846e887f772f5e757d00bcca7",
    "collapsed": true
   },
   "outputs": [],
   "source": [
    "trainDF.head()"
   ]
  },
  {
   "cell_type": "code",
   "execution_count": null,
   "metadata": {
    "_cell_guid": "67b77f98-ab07-4d09-8868-f207d4f3bfcd",
    "_uuid": "ef937d81636ad30d5cee311b7c2ee2f02d8dabaa",
    "collapsed": true
   },
   "outputs": [],
   "source": [
    "from keras.models import Model\n",
    "from keras.layers import Input, Dense, Dropout\n",
    "from keras.layers import Dense, Input, LSTM, Embedding, Dropout, Activation,Concatenate\n",
    "from keras.layers import Bidirectional, GlobalMaxPool1D\n",
    "from keras.models import Model\n",
    "from keras import initializers, regularizers, constraints, optimizers, layers\n",
    "\n",
    "embed_size = 128\n",
    "\n",
    "# Description \n",
    "inp = Input(shape=(maxlen, )) #maxlen=200 as defined earlier\n",
    "x = Embedding(max_features, embed_size)(inp)\n",
    "x = LSTM(200, return_sequences=True,name='lstm_layer')(x)\n",
    "x = GlobalMaxPool1D()(x)\n",
    "x = Dropout(0.1)(x)\n",
    "\n",
    "# Price\n",
    "inp2 = Input(shape=(1, ))\n",
    "y = Dense(50, activation=\"sigmoid\")(inp2)\n",
    "\n",
    "# Category\n",
    "inp3 = Input(shape=(1, ))\n",
    "z = Dense(30, activation=\"sigmoid\")(inp3)\n",
    "\n",
    "x = Concatenate(axis=-1)([x,y,z])\n",
    "\n",
    "x = Dense(200, activation=\"sigmoid\")(x)\n",
    "x = Dropout(0.2)(x)\n",
    "x = Dense(100, activation=\"sigmoid\")(x)\n",
    "x = Dropout(0.1)(x)\n",
    "x = Dense(10, activation=\"softmax\")(x)\n",
    "\n",
    "model = Model(inputs=[inp,inp2,inp3], outputs=x)\n",
    "model.compile(loss='categorical_crossentropy',\n",
    "                  optimizer='RMSprop',\n",
    "                  metrics=['categorical_accuracy'])\n",
    "\n",
    "model.summary()"
   ]
  },
  {
   "cell_type": "code",
   "execution_count": null,
   "metadata": {
    "_cell_guid": "42393589-d434-481e-852f-3e640b8e4c5b",
    "_uuid": "b2fd616e771fcc4c14b9248e901ab4a399619e62",
    "collapsed": true,
    "scrolled": false
   },
   "outputs": [],
   "source": [
    "hist = model.fit([train_x,trainDF[\"price\"],trainDF[\"category_name\"]],np.vstack(trainDF[\"percentileClass\"].as_matrix()),epochs=1, batch_size=300,validation_split=0.1)\n",
    "model.save(\"desc_precentile_classifier.h5\")"
   ]
  },
  {
   "cell_type": "code",
   "execution_count": null,
   "metadata": {
    "_cell_guid": "88d337ea-59f3-4708-8c3c-edc69de5925a",
    "_uuid": "5991970ffb327b1dfe00bbc31068685e6c74f0f7",
    "collapsed": true
   },
   "outputs": [],
   "source": [
    "history = hist\n",
    "#  \"Accuracy\"\n",
    "plt.plot(history.history['categorical_accuracy'])\n",
    "plt.plot(history.history['val_categorical_accuracy'])\n",
    "plt.title('model accuracy')\n",
    "plt.ylabel('accuracy')\n",
    "plt.xlabel('epoch')\n",
    "plt.legend(['train', 'validation'], loc='upper left')\n",
    "plt.show()\n",
    "# \"Loss\"\n",
    "plt.plot(history.history['loss'])\n",
    "plt.plot(history.history['val_loss'])\n",
    "plt.title('model loss')\n",
    "plt.ylabel('loss')\n",
    "plt.xlabel('epoch')\n",
    "plt.legend(['train', 'validation'], loc='upper left')\n",
    "plt.show()"
   ]
  },
  {
   "cell_type": "code",
   "execution_count": null,
   "metadata": {
    "_cell_guid": "97f3be7d-d126-435c-a10b-b74a29b2882c",
    "_uuid": "9f6f80e130629cae8d6cfae134128f8b62caf810",
    "collapsed": true
   },
   "outputs": [],
   "source": [
    "groups = trainDF.groupby(\"percentileClassID\")\n",
    "groups.mean()"
   ]
  },
  {
   "cell_type": "code",
   "execution_count": null,
   "metadata": {
    "_cell_guid": "2e21daaf-95d5-4c17-8649-c8bb13414723",
    "_uuid": "97de9eab746b3dc72de4040c359dd2f0c71c359c",
    "collapsed": true
   },
   "outputs": [],
   "source": [
    "groups = trainDF.groupby(\"percentileClassID\")\n",
    "groups[\"percentileClassID\"].count()/groups[\"percentileClassID\"].count().sum()\n"
   ]
  },
  {
   "cell_type": "code",
   "execution_count": null,
   "metadata": {
    "_cell_guid": "89368f9e-e94e-4735-8ffe-3aa19368642c",
    "_uuid": "078a76ffce64ad3f94b70a67cf6e1f0b14191105",
    "collapsed": true
   },
   "outputs": [],
   "source": []
  },
  {
   "cell_type": "code",
   "execution_count": null,
   "metadata": {
    "_cell_guid": "66a6384c-a7c3-4d6c-ae1f-3bd495606c6d",
    "_uuid": "bcbac0dd139fce1cac8f6fa665bcf14773b133b7",
    "collapsed": true
   },
   "outputs": [],
   "source": [
    "from keras import metrics\n",
    "from keras.backend import eval\n",
    "modelPred = model.predict([train_x[0:20],trainDF[\"price\"][0:20],trainDF[\"category_name\"][0:20]])\n",
    "\n",
    "trainDF[\"percentileClass\"][20]\n",
    "for i in range(20):\n",
    "    print(eval(metrics.categorical_accuracy(trainDF[\"percentileClass\"][i],modelPred[i])))\n",
    "    print(trainDF[\"percentileClass\"][i])\n",
    "\n",
    "#print( modelPred[5])\n",
    "#trainDF[0:10]"
   ]
  },
  {
   "cell_type": "code",
   "execution_count": null,
   "metadata": {
    "_cell_guid": "f92e5fc1-61eb-49ec-8db0-c861cf0cd58e",
    "_uuid": "3e46c69960ba9bb33f5a0560f4606f37adeb164a",
    "collapsed": true
   },
   "outputs": [],
   "source": [
    "modelPred = model.predict(test_x[0:10],batch_size=300).reshape(10)\n",
    "#modelPred = model.predict(test_x,batch_size=300).reshape(len(test_x))"
   ]
  },
  {
   "cell_type": "code",
   "execution_count": null,
   "metadata": {
    "_cell_guid": "5f427dd3-2d98-4501-8d71-5b45475b94f0",
    "_uuid": "9cc3bfcef89fc117a92101c96bc2b73afc5e84bf",
    "collapsed": true
   },
   "outputs": [],
   "source": [
    "data_to_submit = pd.DataFrame.from_items([\n",
    "    ('item_id',testDF[\"item_id\"]),\n",
    "    ('deal_probability', pd.Series(modelPred))])\n",
    "\n",
    "data_to_submit.to_csv('csv_to_submit.csv', index = False)\n",
    "\n",
    "#data_to_submit.head()"
   ]
  },
  {
   "cell_type": "code",
   "execution_count": null,
   "metadata": {
    "_cell_guid": "315b1e2f-79e8-4387-bd7c-70f6f09c030d",
    "_uuid": "06dfad8c0f8344e17c75142b682dd5044971fa91",
    "collapsed": true
   },
   "outputs": [],
   "source": [
    "shape"
   ]
  },
  {
   "cell_type": "markdown",
   "metadata": {
    "_cell_guid": "186bc4dc-5e46-4360-9141-0569850cab88",
    "_uuid": "5cff712848ee2b133b5d73ec5e1ad66d92fc2252"
   },
   "source": [
    "#### "
   ]
  }
 ],
 "metadata": {
  "kernelspec": {
   "display_name": "Python 3",
   "language": "python",
   "name": "python3"
  },
  "language_info": {
   "codemirror_mode": {
    "name": "ipython",
    "version": 3
   },
   "file_extension": ".py",
   "mimetype": "text/x-python",
   "name": "python",
   "nbconvert_exporter": "python",
   "pygments_lexer": "ipython3",
   "version": "3.6.2"
  }
 },
 "nbformat": 4,
 "nbformat_minor": 1
}
